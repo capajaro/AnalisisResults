{
  "nbformat": 4,
  "nbformat_minor": 0,
  "metadata": {
    "colab": {
      "name": "Spatial_Analysis.ipynb",
      "provenance": [],
      "authorship_tag": "ABX9TyNwKiYlSV6gk+ELYtc8V6jH",
      "include_colab_link": true
    },
    "kernelspec": {
      "name": "python3",
      "display_name": "Python 3"
    },
    "language_info": {
      "name": "python"
    }
  },
  "cells": [
    {
      "cell_type": "markdown",
      "metadata": {
        "id": "view-in-github",
        "colab_type": "text"
      },
      "source": [
        "<a href=\"https://colab.research.google.com/github/capajaro/AnalisisResults/blob/main/Spatial_Analysis.ipynb\" target=\"_parent\"><img src=\"https://colab.research.google.com/assets/colab-badge.svg\" alt=\"Open In Colab\"/></a>"
      ]
    },
    {
      "cell_type": "code",
      "metadata": {
        "colab": {
          "base_uri": "https://localhost:8080/"
        },
        "id": "2o8UVDZHTsPS",
        "outputId": "d36a4427-6dea-440b-e24d-a854de52b3da"
      },
      "source": [
        "!pip install PyKrige"
      ],
      "execution_count": 7,
      "outputs": [
        {
          "output_type": "stream",
          "name": "stdout",
          "text": [
            "Requirement already satisfied: PyKrige in /usr/local/lib/python3.7/dist-packages (1.6.1)\n",
            "Requirement already satisfied: numpy<2,>=1.14.5 in /usr/local/lib/python3.7/dist-packages (from PyKrige) (1.19.5)\n",
            "Requirement already satisfied: scipy<2,>=1.1.0 in /usr/local/lib/python3.7/dist-packages (from PyKrige) (1.4.1)\n"
          ]
        }
      ]
    },
    {
      "cell_type": "code",
      "metadata": {
        "id": "mDCScPXuU5n5"
      },
      "source": [
        "import pykrige #biblioteca de geoestadística\n",
        "import pykrige.kriging_tools as kt #herramientas para exportar e importar archivos .asc con biblioteca PyKrige\n",
        "from pykrige.ok import OrdinaryKriging #Kriging Ordinario con PyKrige\n",
        "import pandas as pd #biblioteca de manipulación y análisis de datos\n",
        "import numpy as np #biblioteca de funciones matemáticas\n",
        "import matplotlib.pyplot as plt #biblioteca de generación de gráficos\n",
        "import math \n",
        "plt.style.use('ggplot') #estilo para gráficos en matplotlib\n",
        "% matplotlib inline"
      ],
      "execution_count": 33,
      "outputs": []
    },
    {
      "cell_type": "code",
      "metadata": {
        "id": "bT1qAwY4tmGJ"
      },
      "source": [
        "def Distance_bt_Stations(lat1, lat2, lon1, lon2):\n",
        "  R = 6373.0 \n",
        "  lat1 = math.radians(lat1)\n",
        "  lat2 = math.radians(lat2)\n",
        "  lon1 = math.radians(lon1)\n",
        "  lon2 = math.radians(lon2)\n",
        "\n",
        "  dlon = lon2 - lon1\n",
        "  dlat = lat2 - lat1\n",
        "  a = math.sin(dlat / 2)**2 + math.cos(lat1) * math.cos(lat2) * math.sin(dlon / 2)**2\n",
        "  c = 2 * math.atan2(math.sqrt(a), math.sqrt(1 - a))\n",
        "\n",
        "  distance = R * c\n",
        "\n",
        "  return distance"
      ],
      "execution_count": 63,
      "outputs": []
    },
    {
      "cell_type": "code",
      "metadata": {
        "id": "PcCTDya1qQW_"
      },
      "source": [
        "DataBase = pd.read_excel('/content/Residuals_Before yes FBA yes Zhypo.xlsx')\n",
        "DataBase.EQID.value_counts()\n",
        "DataBase_EQ146 = DataBase[DataBase.EQID == 146]\n",
        "imt = 1\n",
        "DataBase_EQ146_imt = DataBase_EQ146[DataBase_EQ146.Period == imt]"
      ],
      "execution_count": 114,
      "outputs": []
    },
    {
      "cell_type": "code",
      "metadata": {
        "id": "PNkmvV_vvrkw"
      },
      "source": [
        "df = DataBase_EQ146_imt\n",
        "Stations = df.SSN.values\n",
        "Lats = df['Station Latitude (deg positive N)'].values\n",
        "Lons = df['Station Longitude (deg positive E)'].values\n",
        "dwes = df['dWe Tau Fixed'].values\n",
        "sigma_GMPE = np.sqrt(np.array([df['Total']]).var())\n",
        "dBase_Semivar = pd.DataFrame(data = np.zeros([len(Stations)**2,2]), columns = ['Distancia', 'Dif_Epsilons_cuad'])\n",
        "k = 0\n",
        "for i_station in range(len(Stations)):\n",
        "  for j_station in range(len(Stations)):\n",
        "    lat1 = Lats[i_station]\n",
        "    lat2 = Lats[j_station]\n",
        "    lon1 = Lons[i_station]\n",
        "    lon2 = Lons[j_station]\n",
        "    eps1 = dwes[i_station]/sigma_GMPE\n",
        "    eps2 = dwes[j_station]/sigma_GMPE\n",
        "    distancia = Distance_bt_Stations(lat1, lat2, lon1, lon2)\n",
        "\n",
        "    dBase_Semivar['Distancia'].iloc[k] = distancia\n",
        "    dBase_Semivar['Dif_Epsilons_cuad'].iloc[k] = (eps1 - eps2)**2\n",
        "    k += 1\n"
      ],
      "execution_count": 115,
      "outputs": []
    },
    {
      "cell_type": "code",
      "metadata": {
        "id": "3sMqP95Iy172"
      },
      "source": [
        "Rmax = 700\n",
        "binsize_R = 10\n",
        "bins_R = list(range(0, Rmax, binsize_R))\n",
        "bin_R_Mean = [0.5*(bins_R[i]+ bins_R[i+1])\n",
        "            for i in range(len(bins_R)-1)]\n",
        "bin_label_R = ['%0.0f<= R < %0.0f' % (bins_R[i], bins_R[i+1])\n",
        "            for i in range(len(bins_R)-1)]\n",
        "\n",
        "dBase_Semivar['R_Bin'] = pd.cut(dBase_Semivar['Distancia'], bins=bins_R, labels=bin_label_R)\n"
      ],
      "execution_count": 116,
      "outputs": []
    },
    {
      "cell_type": "code",
      "metadata": {
        "id": "EedQCytSzyOp"
      },
      "source": [
        "Dbase_Semivar_Plot = dBase_Semivar.groupby('R_Bin').sum()\n",
        "Dbase_Semivar_Plot['R_Bin'] = Dbase_Semivar_Plot.index.values\n",
        "Dbase_Semivar_Plot['Distancia_media']= bin_R_Mean\n",
        "df_aux = dBase_Semivar.R_Bin.value_counts().sort_index()\n",
        "Dbase_Semivar_Plot[\"N_recs\"] = dBase_Semivar.R_Bin.value_counts().sort_index().values\n",
        "Dbase_Semivar_Plot['Semivariograma']= 0.5*Dbase_Semivar_Plot['Dif_Epsilons_cuad']/Dbase_Semivar_Plot[\"N_recs\"]\n",
        "Dbase_Semivar_Plot = Dbase_Semivar_Plot.dropna()"
      ],
      "execution_count": 117,
      "outputs": []
    },
    {
      "cell_type": "code",
      "metadata": {
        "colab": {
          "base_uri": "https://localhost:8080/",
          "height": 286
        },
        "id": "Qmu_AZjM1RCy",
        "outputId": "c2f5c025-d69f-43b3-cea3-c82fd9e6ac24"
      },
      "source": [
        "plt.plot(Dbase_Semivar_Plot.Distancia_media, Dbase_Semivar_Plot.Semivariograma, 'o')\n",
        "plt.xlim([0,200])\n",
        "plt.ylim([0,1.2])"
      ],
      "execution_count": 118,
      "outputs": [
        {
          "output_type": "execute_result",
          "data": {
            "text/plain": [
              "(0.0, 1.2)"
            ]
          },
          "metadata": {},
          "execution_count": 118
        },
        {
          "output_type": "display_data",
          "data": {
            "image/png": "[encoded data removed]",
            "text/plain": [
              "<Figure size 432x288 with 1 Axes>"
            ]
          },
          "metadata": {
            "needs_background": "light"
          }
        }
      ]
    }
  ]
}